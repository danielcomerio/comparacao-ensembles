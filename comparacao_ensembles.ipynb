{
  "metadata": {
    "language_info": {
      "codemirror_mode": {
        "name": "ipython",
        "version": 3
      },
      "file_extension": ".py",
      "mimetype": "text/x-python",
      "name": "python",
      "nbconvert_exporter": "python",
      "pygments_lexer": "ipython3",
      "version": "3.8.5-final"
    },
    "orig_nbformat": 2,
    "kernelspec": {
      "name": "python38564bitvenv2968a4bbb73a44d3bc460db98a8fa7f9",
      "display_name": "Python 3.8.5 64-bit ('.venv')",
      "language": "python"
    },
    "colab": {
      "name": "07 - ensembles.ipynb",
      "provenance": []
    }
  },
  "nbformat": 4,
  "nbformat_minor": 0,
  "cells": [
    {
      "cell_type": "code",
      "source": [
        "from sklearn.model_selection import train_test_split\n",
        "from sklearn.ensemble import RandomForestClassifier\n",
        "from sklearn.neighbors import KNeighborsClassifier\n",
        "from sklearn.ensemble import ExtraTreesClassifier\n",
        "from sklearn.tree import DecisionTreeClassifier\n",
        "from sklearn.ensemble import AdaBoostClassifier\n",
        "from sklearn.ensemble import StackingClassifier\n",
        "from sklearn.ensemble import BaggingClassifier\n",
        "from sklearn.ensemble import VotingClassifier\n",
        "from sklearn.linear_model import Perceptron\n",
        "from sklearn.naive_bayes import GaussianNB\n",
        "from xgboost import XGBClassifier\n",
        "from scipy import stats\n",
        "import numpy as np\n",
        "import csv"
      ],
      "metadata": {
        "id": "lfikAfxhjmZX"
      },
      "execution_count": 168,
      "outputs": []
    },
    {
      "cell_type": "code",
      "source": [
        "file = open(\"ds-spam.csv\", 'r')\n",
        "csv_reader = csv.reader(file)\n",
        "\n",
        "header = next(csv_reader)\n",
        "#print(header)\n",
        "\n",
        "X, y = [], []\n",
        "for features in csv_reader:\n",
        "  y.append(features.pop(-1))\n",
        "  X.append(features)\n",
        "\n",
        "X = np.array(X, dtype=float)\n",
        "y = np.array(y, dtype=float)\n",
        "\n",
        "X.shape, y.shape"
      ],
      "metadata": {
        "colab": {
          "base_uri": "https://localhost:8080/"
        },
        "id": "BYNMN2iei00E",
        "outputId": "32de32c8-660e-46b1-988a-e6f662675f62"
      },
      "execution_count": 169,
      "outputs": [
        {
          "output_type": "execute_result",
          "data": {
            "text/plain": [
              "((4601, 57), (4601,))"
            ]
          },
          "metadata": {},
          "execution_count": 169
        }
      ]
    },
    {
      "cell_type": "code",
      "execution_count": 170,
      "metadata": {
        "id": "s_mnMug6dViq"
      },
      "outputs": [],
      "source": [
        "X_tr, X_te, y_tr, y_te = train_test_split(X, y)"
      ]
    },
    {
      "cell_type": "code",
      "execution_count": 171,
      "metadata": {
        "id": "ePOBQIcedVir"
      },
      "outputs": [],
      "source": [
        "modelo = KNeighborsClassifier()\n",
        "modelo.fit(X_tr, y_tr)\n",
        "knn_pr = modelo.predict(X_te)\n",
        "knnhits = knn_pr == y_te"
      ]
    },
    {
      "cell_type": "code",
      "execution_count": 172,
      "metadata": {
        "id": "cW1fHcBldVir"
      },
      "outputs": [],
      "source": [
        "modelo = GaussianNB()\n",
        "modelo.fit(X_tr, y_tr)\n",
        "gnb_pr = modelo.predict(X_te)\n",
        "gnbhits = gnb_pr == y_te"
      ]
    },
    {
      "cell_type": "code",
      "execution_count": 173,
      "metadata": {
        "id": "s0xBJJ7_dVis"
      },
      "outputs": [],
      "source": [
        "modelo = Perceptron()\n",
        "modelo.fit(X_tr, y_tr)\n",
        "per_pr = modelo.predict(X_te)\n",
        "perhits = per_pr == y_te"
      ]
    },
    {
      "cell_type": "code",
      "execution_count": 174,
      "metadata": {
        "id": "1431liehdVis"
      },
      "outputs": [],
      "source": [
        "hits = np.stack((knnhits, gnbhits, perhits))"
      ]
    },
    {
      "cell_type": "code",
      "execution_count": 175,
      "metadata": {
        "id": "56nZtjgsdVis"
      },
      "outputs": [],
      "source": [
        "y_pr = np.stack((knn_pr, gnb_pr, per_pr))"
      ]
    },
    {
      "cell_type": "code",
      "execution_count": 176,
      "metadata": {
        "id": "sjKzptpbdVit"
      },
      "outputs": [],
      "source": [
        "y_pr = stats.mode(y_pr)[0][0]\n",
        "vohits = y_pr == y_te"
      ]
    },
    {
      "cell_type": "code",
      "execution_count": 177,
      "metadata": {
        "colab": {
          "base_uri": "https://localhost:8080/"
        },
        "id": "ZcGoeGnndViv",
        "outputId": "61c1ea21-6c2e-4854-f2a3-624eb0e4d4ce"
      },
      "outputs": [
        {
          "output_type": "execute_result",
          "data": {
            "text/plain": [
              "(array([ True, False,  True, ...,  True, False,  True]), 0.8140747176368376)"
            ]
          },
          "metadata": {},
          "execution_count": 177
        }
      ],
      "source": [
        "modelo = VotingClassifier([\n",
        "    ('knn', KNeighborsClassifier()),\n",
        "    ('naivebayes', GaussianNB()),\n",
        "    ('perceptron', Perceptron())\n",
        "])\n",
        "modelo.fit(X_tr, y_tr)\n",
        "vo_pr = modelo.predict(X_te)\n",
        "vohits = vo_pr == y_te\n",
        "vohits, sum(vohits)/len(vohits)"
      ]
    },
    {
      "cell_type": "code",
      "execution_count": 178,
      "metadata": {
        "colab": {
          "base_uri": "https://localhost:8080/"
        },
        "id": "aDl4QcgKdViv",
        "outputId": "57d35c84-1ce4-4582-8f3c-da8273739cc3"
      },
      "outputs": [
        {
          "output_type": "execute_result",
          "data": {
            "text/plain": [
              "(array([ True, False,  True, ...,  True,  True,  True]), 0.7966985230234579)"
            ]
          },
          "metadata": {},
          "execution_count": 178
        }
      ],
      "source": [
        "modelo = VotingClassifier([\n",
        "    ('knn1', KNeighborsClassifier(3)),\n",
        "    ('knn2', KNeighborsClassifier(7)),\n",
        "    ('knn3', KNeighborsClassifier(11)),\n",
        "])\n",
        "modelo.fit(X_tr, y_tr)\n",
        "vo_pr = modelo.predict(X_te)\n",
        "vohits = vo_pr == y_te\n",
        "vohits, sum(vohits)/len(vohits)"
      ]
    },
    {
      "cell_type": "code",
      "execution_count": 179,
      "metadata": {
        "colab": {
          "base_uri": "https://localhost:8080/"
        },
        "id": "tpA_Ly2pdViv",
        "outputId": "ea09ceff-b9b1-4036-f803-3b7eac2484a5"
      },
      "outputs": [
        {
          "output_type": "execute_result",
          "data": {
            "text/plain": [
              "(array([ True,  True,  True, ...,  True,  True,  True]), 0.9218071242397915)"
            ]
          },
          "metadata": {},
          "execution_count": 179
        }
      ],
      "source": [
        "modelo = VotingClassifier([\n",
        "    ('knn', KNeighborsClassifier()),\n",
        "    ('naivebayes', GaussianNB()),\n",
        "    ('arvore', DecisionTreeClassifier())\n",
        "])\n",
        "modelo.fit(X_tr, y_tr)\n",
        "vo_pr = modelo.predict(X_te)\n",
        "vohits = vo_pr == y_te\n",
        "vohits, sum(vohits)/len(vohits)"
      ]
    },
    {
      "cell_type": "code",
      "execution_count": 180,
      "metadata": {
        "colab": {
          "base_uri": "https://localhost:8080/"
        },
        "id": "5zCSLCqQdViw",
        "outputId": "8cf2ba90-7207-42c5-d247-926a0f11d12c"
      },
      "outputs": [
        {
          "output_type": "execute_result",
          "data": {
            "text/plain": [
              "(array([ True,  True,  True, ...,  True,  True, False]), 0.9165942658557776)"
            ]
          },
          "metadata": {},
          "execution_count": 180
        }
      ],
      "source": [
        "modelo = DecisionTreeClassifier()\n",
        "modelo.fit(X_tr, y_tr)\n",
        "dt_pr = modelo.predict(X_te)\n",
        "dthits = dt_pr == y_te\n",
        "dthits, sum(dthits)/len(dthits)"
      ]
    },
    {
      "cell_type": "code",
      "execution_count": 181,
      "metadata": {
        "colab": {
          "base_uri": "https://localhost:8080/"
        },
        "id": "RLxTJTJ7dViw",
        "outputId": "21669c4c-8f6e-4372-9dd9-1fe33ba8a2da"
      },
      "outputs": [
        {
          "output_type": "execute_result",
          "data": {
            "text/plain": [
              "(array([ True,  True,  True, ...,  True,  True,  True]), 0.9400521285838401)"
            ]
          },
          "metadata": {},
          "execution_count": 181
        }
      ],
      "source": [
        "modelo = BaggingClassifier()\n",
        "modelo.fit(X_tr, y_tr)\n",
        "bag_pr = modelo.predict(X_te)\n",
        "baghits = bag_pr == y_te\n",
        "baghits, sum(baghits)/len(baghits)"
      ]
    },
    {
      "cell_type": "code",
      "execution_count": 182,
      "metadata": {
        "colab": {
          "base_uri": "https://localhost:8080/"
        },
        "id": "8kuupemjdVix",
        "outputId": "98ce90c5-5e13-4cf3-f3a4-f30a7b9c7c19"
      },
      "outputs": [
        {
          "output_type": "execute_result",
          "data": {
            "text/plain": [
              "(array([ True,  True,  True, ...,  True,  True,  True]), 0.9400521285838401)"
            ]
          },
          "metadata": {},
          "execution_count": 182
        }
      ],
      "source": [
        "modelo = BaggingClassifier(DecisionTreeClassifier())\n",
        "modelo.fit(X_tr, y_tr)\n",
        "bag_pr = modelo.predict(X_te)\n",
        "baghits = bag_pr == y_te\n",
        "baghits, sum(baghits)/len(baghits)"
      ]
    },
    {
      "cell_type": "code",
      "execution_count": 183,
      "metadata": {
        "colab": {
          "base_uri": "https://localhost:8080/"
        },
        "id": "uDJN5hEvdVix",
        "outputId": "be7535ee-ddfb-4c8d-8e97-5e3eac25cf29"
      },
      "outputs": [
        {
          "output_type": "execute_result",
          "data": {
            "text/plain": [
              "(array([ True,  True,  True, ...,  True,  True,  True]), 0.9409209383145091)"
            ]
          },
          "metadata": {},
          "execution_count": 183
        }
      ],
      "source": [
        "modelo = BaggingClassifier(DecisionTreeClassifier(splitter='random'))\n",
        "modelo.fit(X_tr, y_tr)\n",
        "bag_pr = modelo.predict(X_te)\n",
        "baghits = bag_pr == y_te\n",
        "baghits, sum(baghits)/len(baghits)"
      ]
    },
    {
      "cell_type": "code",
      "execution_count": 184,
      "metadata": {
        "colab": {
          "base_uri": "https://localhost:8080/"
        },
        "id": "BGjRQjx5dVix",
        "outputId": "b21ff367-0418-4bc6-c709-941a55a273ea"
      },
      "outputs": [
        {
          "output_type": "execute_result",
          "data": {
            "text/plain": [
              "(array([ True,  True,  True, ...,  True,  True,  True]), 0.9539530842745438)"
            ]
          },
          "metadata": {},
          "execution_count": 184
        }
      ],
      "source": [
        "modelo = BaggingClassifier(DecisionTreeClassifier(splitter='random'), n_estimators=200)\n",
        "modelo.fit(X_tr, y_tr)\n",
        "bag_pr = modelo.predict(X_te)\n",
        "baghits = bag_pr == y_te\n",
        "baghits, sum(baghits)/len(baghits)"
      ]
    },
    {
      "cell_type": "code",
      "execution_count": 185,
      "metadata": {
        "colab": {
          "base_uri": "https://localhost:8080/"
        },
        "id": "HYFeKsHidViy",
        "outputId": "d20acc45-5c89-481b-dffd-64a552748753"
      },
      "outputs": [
        {
          "output_type": "execute_result",
          "data": {
            "text/plain": [
              "(array([ True,  True,  True, ...,  True,  True,  True]), 0.9548218940052129)"
            ]
          },
          "metadata": {},
          "execution_count": 185
        }
      ],
      "source": [
        "modelo = RandomForestClassifier()\n",
        "modelo.fit(X_tr, y_tr)\n",
        "rf_pr = modelo.predict(X_te)\n",
        "rfhits = rf_pr == y_te\n",
        "rfhits, sum(rfhits)/len(rfhits)"
      ]
    },
    {
      "cell_type": "code",
      "execution_count": 186,
      "metadata": {
        "colab": {
          "base_uri": "https://localhost:8080/"
        },
        "id": "vN64RQZsdViy",
        "outputId": "436f1a7d-fe88-4222-e93d-6d2c8955c1d7"
      },
      "outputs": [
        {
          "output_type": "execute_result",
          "data": {
            "text/plain": [
              "(array([ True,  True,  True, ...,  True,  True,  True]), 0.9278887923544744)"
            ]
          },
          "metadata": {},
          "execution_count": 186
        }
      ],
      "source": [
        "modelo = BaggingClassifier(DecisionTreeClassifier(splitter='random'), n_estimators=200, max_features=0.2)\n",
        "modelo.fit(X_tr, y_tr)\n",
        "bag_pr = modelo.predict(X_te)\n",
        "baghits = bag_pr == y_te\n",
        "baghits, sum(baghits)/len(baghits)"
      ]
    },
    {
      "cell_type": "code",
      "execution_count": 187,
      "metadata": {
        "colab": {
          "base_uri": "https://localhost:8080/"
        },
        "id": "BMu3OI9VdViz",
        "outputId": "832bfe2f-4015-4282-bb33-171de4a89324"
      },
      "outputs": [
        {
          "output_type": "execute_result",
          "data": {
            "text/plain": [
              "(array([ True,  True,  True, ...,  True,  True,  True]), 0.9496090356211989)"
            ]
          },
          "metadata": {},
          "execution_count": 187
        }
      ],
      "source": [
        "modelo = ExtraTreesClassifier()\n",
        "modelo.fit(X_tr, y_tr)\n",
        "et_pr = modelo.predict(X_te)\n",
        "ethits = et_pr == y_te\n",
        "ethits, sum(ethits)/len(ethits)"
      ]
    },
    {
      "cell_type": "code",
      "execution_count": 188,
      "metadata": {
        "colab": {
          "base_uri": "https://localhost:8080/"
        },
        "id": "k-QVCRrHdViz",
        "outputId": "dd998690-3c86-4162-d8f2-ea89b2762f39"
      },
      "outputs": [
        {
          "output_type": "execute_result",
          "data": {
            "text/plain": [
              "(array([ True,  True,  True, ...,  True,  True,  True]), 0.9348392701998263)"
            ]
          },
          "metadata": {},
          "execution_count": 188
        }
      ],
      "source": [
        "modelo = AdaBoostClassifier()\n",
        "modelo.fit(X_tr, y_tr)\n",
        "ab_pr = modelo.predict(X_te)\n",
        "abhits = ab_pr == y_te\n",
        "abhits, sum(abhits)/len(abhits)"
      ]
    },
    {
      "cell_type": "code",
      "execution_count": 189,
      "metadata": {
        "colab": {
          "base_uri": "https://localhost:8080/"
        },
        "id": "Izn6gMZ0dViz",
        "outputId": "fa11c42e-aa73-488a-aa50-1122f5cf6ae3"
      },
      "outputs": [
        {
          "output_type": "execute_result",
          "data": {
            "text/plain": [
              "(array([ True,  True,  True, ...,  True,  True,  True]), 0.946133796698523)"
            ]
          },
          "metadata": {},
          "execution_count": 189
        }
      ],
      "source": [
        "modelo = AdaBoostClassifier(DecisionTreeClassifier(max_depth=38, splitter='random'), learning_rate=0.2)\n",
        "modelo.fit(X_tr, y_tr)\n",
        "ab_pr = modelo.predict(X_te)\n",
        "abhits = ab_pr == y_te\n",
        "abhits, sum(abhits)/len(abhits)"
      ]
    },
    {
      "cell_type": "code",
      "execution_count": 190,
      "metadata": {
        "colab": {
          "base_uri": "https://localhost:8080/"
        },
        "id": "6SsOJ9ibdViz",
        "outputId": "14c37f13-732c-4e54-c695-e62cc2102246"
      },
      "outputs": [
        {
          "output_type": "execute_result",
          "data": {
            "text/plain": [
              "(array([False,  True,  True, ...,  True,  True,  True]), 0.945264986967854)"
            ]
          },
          "metadata": {},
          "execution_count": 190
        }
      ],
      "source": [
        "modelo = XGBClassifier(use_label_encoder=False)\n",
        "modelo.fit(X_tr, y_tr)\n",
        "xgb_pr = modelo.predict(X_te)\n",
        "xgbhits = xgb_pr == y_te\n",
        "xgbhits, sum(xgbhits)/len(xgbhits)"
      ]
    },
    {
      "cell_type": "code",
      "execution_count": 191,
      "metadata": {
        "colab": {
          "base_uri": "https://localhost:8080/"
        },
        "id": "80Sy3yywdVi0",
        "outputId": "4c24cbc4-c3c6-4d8b-cb23-ab6f66c4bfca"
      },
      "outputs": [
        {
          "output_type": "execute_result",
          "data": {
            "text/plain": [
              "(array([False,  True,  True, ...,  True,  True,  True]), 0.9296264118158123)"
            ]
          },
          "metadata": {},
          "execution_count": 191
        }
      ],
      "source": [
        "modelo = XGBClassifier(colsample_bynode=0.02, learning_rate=0.2)\n",
        "modelo.fit(X_tr, y_tr)\n",
        "xgb_pr = modelo.predict(X_te)\n",
        "xgbhits = xgb_pr == y_te\n",
        "xgbhits, sum(xgbhits)/len(xgbhits)"
      ]
    },
    {
      "cell_type": "code",
      "execution_count": 192,
      "metadata": {
        "colab": {
          "base_uri": "https://localhost:8080/"
        },
        "id": "9dITwQu5dVi0",
        "outputId": "669fde72-bfca-4663-ccd8-49a72da6ec4d"
      },
      "outputs": [
        {
          "output_type": "execute_result",
          "data": {
            "text/plain": [
              "(array([ True,  True,  True, ...,  True,  True,  True]), 0.9426585577758471)"
            ]
          },
          "metadata": {},
          "execution_count": 192
        }
      ],
      "source": [
        "voting = VotingClassifier([\n",
        "        ('knn', KNeighborsClassifier()),\n",
        "        ('naivebayes', GaussianNB()),\n",
        "        ('perceptron', Perceptron())\n",
        "    ])\n",
        "\n",
        "modelo = StackingClassifier([\n",
        "    ('voting', voting),\n",
        "    ('extratrees', ExtraTreesClassifier()),\n",
        "    ('randomforest', RandomForestClassifier())\n",
        "], cv=3, passthrough=True)\n",
        "\n",
        "modelo.fit(X_tr, y_tr) \n",
        "sc_pr = modelo.predict(X_te)\n",
        "schits = sc_pr == y_te\n",
        "schits, sum(schits)/len(schits)"
      ]
    },
    {
      "cell_type": "code",
      "execution_count": 193,
      "metadata": {
        "colab": {
          "base_uri": "https://localhost:8080/"
        },
        "id": "t7H11paldVi0",
        "outputId": "d48eeaf9-aed6-466f-f275-3cd34a1389ab"
      },
      "outputs": [
        {
          "output_type": "execute_result",
          "data": {
            "text/plain": [
              "(array([ True,  True,  True, ...,  True,  True,  True]), 0.9496090356211989)"
            ]
          },
          "metadata": {},
          "execution_count": 193
        }
      ],
      "source": [
        "modelo = StackingClassifier([\n",
        "    ('R1', RandomForestClassifier()),\n",
        "    ('R2', RandomForestClassifier()),\n",
        "    ('R3', RandomForestClassifier())\n",
        "], cv=7, passthrough=True)\n",
        "\n",
        "modelo.fit(X_tr, y_tr) \n",
        "sc_pr = modelo.predict(X_te)\n",
        "schits = sc_pr == y_te\n",
        "schits, sum(schits)/len(schits)"
      ]
    }
  ]
}